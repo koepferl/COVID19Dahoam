{
 "cells": [
  {
   "cell_type": "markdown",
   "metadata": {
    "collapsed": true
   },
   "source": [
    "# Local analysis of the case numbers of COVID19 for Germany\n",
    "\n",
    "#### Analyse der Corona Fallzahlen auf Landkreisebene in Deutschland (Deutsche Version folgt bald)"
   ]
  },
  {
   "cell_type": "markdown",
   "metadata": {
    "collapsed": true
   },
   "source": [
    "Here the diagrams for the 96 Bavarian counties (more coming) of the evolution of the Corona cases are provided, analysed and the doubling times are given. The corresponding code to perform this analysis is provided as well. The plots are updated every day.\n",
    "\n",
    "#### Work for you - Mithilfe\n",
    "HELP: We need the number of min. and max. number of beds for intensive care (respirator) in all Bavarian/German counties. Input is very welcome.\n",
    "HILFE: Wir brauchen noch die min. und max. Anzahl von Beatmungsgeräten in den jeweiligen Landkreisen in Bayern/Deutschland. Input is very welcome.\n",
    "\n",
    "\n",
    "\n",
    "#### Disclaimer\n",
    "This is currently work in progress before using convince yourself that the analysis and numbers are correct. No guarantee is given.\n",
    "\n",
    "#### Credit\n",
    "When using this dataset or code please reference accordingly.\n",
    "* Christine Greif http://www.usm.uni-muenchen.de/~koepferl\n",
    "* This work is licensed under CC-BY-SA 4.0\n",
    "* Data source: NPGEO-DE\n",
    "* Special thanks to Prof. Andreas Burkert at the LMU Munich"
   ]
  },
  {
   "cell_type": "markdown",
   "metadata": {},
   "source": [
    "## Logarithmic Plot of the COVID-19 Cases \n",
    "\n",
    "The plots for the 96 Bavarian counties are provided. An example is provided below.\n",
    "\n",
    "#### Axis\n",
    "Note that this is a semilogarithmic plot. The numbers on y axis are not equally spaced.\n",
    "\n",
    "#### Data points\n",
    "The data points of the cumulative evolution over time are shown with black + signs. The data was extracted from the online catalog of the Robert-Koch-Institute at https://npgeo-corona-npgeo-de.hub.arcgis.com/datasets/dd4580c810204019a7b8eb3e0b329dd6_0?orderBy=IdLandkreis&orderByAsc=false&where=Bundesland%20%3D%20%27Bayern%27 .\n",
    "\n",
    "#### Fitting \n",
    "Once eight data points are available a non-linear least square fit is performed for a specific date. For the following dates also a similar fit is performed also using the eight most recent available data points. In this case the fit is weighted towards the most recent development and is not contaminated by the early evolution with is currently of secondary interest. Fits of early dates are dark blue. Most recent fits are yellow. \n",
    "\n",
    "For the fit the routine ``curve_fit`` of the ``scipy.optimize`` module was used with respect to the following theoretical function ``y = a * exp(b * x)``. For further information see: https://docs.scipy.org/doc/scipy/reference/generated/scipy.optimize.curve_fit.html\n",
    "\n",
    "#### Hospital Capacity\n",
    "It is possible to add the minimal and maximal hospital capacity of intensive care in the code (horizontal dotted lines). Currently the data is only available for the county \"Landkreis Miesbach\". We would appreciate input very much. \n",
    "\n",
    "#### Approximated Demand for Intensive Care\n",
    "It is possible to display the approximated demand of intensive care facilities as a function of time. This a very rough approximation currently using 5% of the currently approximated cases. This number can be changed. We would appreciate input of which number best to used. If the Hospital capacity of the specific county is available the corresponding availability can be color-coded in a traffic light manner. \n",
    "\n",
    "* green: enough facilities available in this county\n",
    "* orange: sufficient facilities available in this county\n",
    "* red: to few facilities available in this county\n",
    "\n",
    "The corresponding black dashed lines represent the errors of such a rough approximation."
   ]
  },
  {
   "cell_type": "markdown",
   "metadata": {},
   "source": [
    "=> see Figure plots/LK Miesbach.pdf"
   ]
  },
  {
   "cell_type": "markdown",
   "metadata": {
    "collapsed": true
   },
   "source": [
    "## Doubling Time\n",
    "\n",
    "Below the evolution of the estimated doubling time is given for every county. The number of data points differs per county due to the different outbreak times. The doubling time was calculated from every fit, using the extracted fitting parameter `b`.\n",
    "\n",
    "$y = a * exp(b * x)$\n",
    "\n",
    "$2a = a * exp(b * x_{double})$\n",
    "\n",
    "$2 = exp(b * x_{double})$\n",
    " \n",
    "$ln(2) = b * x_{double}$\n",
    "\n",
    "$x_{double} = \\frac{ln(2)}{b}$"
   ]
  },
  {
   "cell_type": "markdown",
   "metadata": {},
   "source": [
    "=> see DT.pdf"
   ]
  },
  {
   "cell_type": "markdown",
   "metadata": {},
   "source": [
    "Note: The raw data contains the individal cases transmitted by the local authorities to the RKI. For certain counties the number of cases for a certain day are corrected afterwards. Therefore it is possible that the doubling time variates in the DT.pdf when comparing different days. "
   ]
  },
  {
   "cell_type": "markdown",
   "metadata": {},
   "source": [
    "## Interpretation\n",
    "\n",
    "### Dataset downloaded 2020-04-02\n",
    "We can see from the semi logarithmic plot and the evolution of the doubling time that some counties have slowed down their exponential growth of the case numbers. However some are still on doubling times smaller than 5 days (e. g. LK Bad Kissingen, LK Guenzburg, LK Neustadt a.d.Waldnaab, LK Straubing-Bogen, SK Amberg, SK Hof, SK Ingolstadt, SK Kaufbeuren, SK Schweinfurt). For some of the counties a turn over in the case number evolution is not yet visible (e. g. LK Dillingen, LK Amberg-Sulzbach, LK Bad Kissingen).\n",
    "\n",
    "However I need to emphasize that even though an improve in the doubling times and a turn over in case numbers in the logarithmic plot is visible (e. g. LK Miesbach), still the capacities of the local hospital facilities are limited. \n",
    "\n",
    "More interpretation follows tomorrow.\n",
    "\n",
    "## Recommendation\n",
    "Social distancing is key to slow down the case numbers further to not overburden our local health system. Show solidarity through and from the distance.\n",
    "\n"
   ]
  },
  {
   "cell_type": "code",
   "execution_count": null,
   "metadata": {
    "collapsed": true
   },
   "outputs": [],
   "source": []
  }
 ],
 "metadata": {
  "kernelspec": {
   "display_name": "Python 2",
   "language": "python",
   "name": "python2"
  },
  "language_info": {
   "codemirror_mode": {
    "name": "ipython",
    "version": 2
   },
   "file_extension": ".py",
   "mimetype": "text/x-python",
   "name": "python",
   "nbconvert_exporter": "python",
   "pygments_lexer": "ipython2",
   "version": "2.7.13"
  }
 },
 "nbformat": 4,
 "nbformat_minor": 2
}
