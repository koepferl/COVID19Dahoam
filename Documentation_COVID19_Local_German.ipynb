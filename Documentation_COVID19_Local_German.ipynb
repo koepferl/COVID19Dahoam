{
 "cells": [
  {
   "cell_type": "markdown",
   "metadata": {
    "collapsed": true
   },
   "source": [
    "# Analyse der Corona Fallzahlen auf deutscher Landkreisebene\n",
    "#### Local analysis of the case numbers of COVID19 for Germany (English Version in other file)"
   ]
  },
  {
   "cell_type": "markdown",
   "metadata": {
    "collapsed": true
   },
   "source": [
    "Hier werden täglich die Corona-Fallzahlen-Diagramme der 96 Bayerischen Land- und Stadtkreise angezeigt, analysiert. Zusätzlich werden auch die momentanen Verdopplungsraten diskutiert. Der zugehörige Analyse-Code ist ebenfalls hier enthalten. Die Diagramme werden täglich aktualisiert. \n",
    "\n",
    "#### Bitte um Mithilfe\n",
    "\n",
    "HILFE: Wir brauchen noch die min. und max. Anzahl von Beatmungsgeräten in den jeweiligen Landkreisen in Bayern/Deutschland. \n",
    "\n",
    "#### Achtung\n",
    "Es handelt sich hier um Analysen an einem täglich ändernden Datensatz. Bevor die Erkenntnisse dieser Arbeit zur Anwendung kommen, muss der Benutzer sich klar gemacht haben, dass die Datensatz und Analysen korrekt sind. Es wird keine Garantie jedweder Art gegeben. \n",
    "\n",
    "#### Copyright\n",
    "Bei Anwendung der Abbildungen oder Software bitte folgende Referenzen angeben:\n",
    "\n",
    "Release 2020-04-02 <a href=\"https://zenodo.org/badge/latestdoi/252294531\"><img src=\"https://zenodo.org/badge/252294531.svg\" alt=\"DOI\"></a>\n",
    "* Christine Greif http://www.usm.uni-muenchen.de/~koepferl\n",
    "* Abbildungen fallen unter die Lizenz CC-BY-SA 4.0\n",
    "* Datenquelle: NPGEO-DE\n",
    "* Vielen Dank an Prof. Andreas Burkert an der LMU München"
   ]
  },
  {
   "cell_type": "markdown",
   "metadata": {},
   "source": [
    "## Logarithmisches Diagramm der COVID19 Fallzahlen \n",
    "\n",
    "Täglich werden die Diagramme für die 96 bayerischen Kreise aktualisiert. Ein Beispiel für den Landkreis Miesbach ist unten verlinked. \n",
    "\n",
    "#### Axis\n",
    "Zu beachten ist, dass es sich hier um eine logarithmische Skala auf der vertikalen Achse handelt. Das bedeutet, dass die Zahlen nicht gleichmäßig verteilt sind, sondern die Abstände für größere Zahlen immer kleiner werden. \n",
    "\n",
    "#### Datenpunkte\n",
    "Die aufsummierte Entwicklung der Fallzahlen (Datenpunkte) wird durch schwarze + gekennzeichnet. Die Daten stammen vom Onlinekathalog des Robert-Koch-Instituts bereitgestelt auf https://npgeo-corona-npgeo-de.hub.arcgis.com/datasets/dd4580c810204019a7b8eb3e0b329dd6_0?orderBy=IdLandkreis&orderByAsc=false&where=Bundesland%20%3D%20%27Bayern%27 .\n",
    "\n",
    "#### Fit \n",
    "Mittels der Methode des nichtlineares Nähern der kleinsten Quadrate werden jeweils acht Datenpunkte benutzt um ein passendes theoretisches Model zu finden. Dies wird für alle paare von acht Datenpunkten wiederholt. Durch die Auswahl von lediglich acht Datenpunkten repräsentiert das genäherte Model stärker die aktuelle Lage und wird wenig von der frühen Entwicklung beeinflusst. Die frühen genäherten Modelle sind dunkelblau und die aktuellsten gelb. \n",
    "\n",
    "Für die Näherung wurde die Routine ``curve_fit`` vom ``scipy.optimize`` module verwendent unter der Berücksichtigung der folgenden theoretischen Modells: ``y = a * exp(b * x)``. Für mehr Informationen siehe: https://docs.scipy.org/doc/scipy/reference/generated/scipy.optimize.curve_fit.html\n",
    "\n",
    "#### Krankenhauskapazitäten\n",
    "Es ist möglich, die minimale und maximale Krankenhauskapazität für den jeweiligen Kreis anzugeben (horizontalen gepunkteten Linien). Zur Zeit liegen uns nur Zahlen für den Landkreis Miesbach vor. Wir sind auf Ihren Beitrag angewiesen.\n",
    "\n",
    "#### Ungefährer Bedarf an Beatmungseinheiten\n",
    "Theoretisch ist es möglich die Anzahl der Beatmungseinheiten hochzurechnen welche in naher Zukunft benötigt werden. Des handelt sich dabei um eine sehr grobe Abschätzung (ca. 5% aller getesteten), da man bedenken muss, dass es sich dabei um eine dynamische Entwicklung handelt und sich diese Zahlen auch täglich ändern können. Wir sind auf Ihre Mithilfe angewiesen um diese Werte zu vervollständigen. Wenn die Zahlen für einen Bestimmten Kreis bekannt sind (siehe Rechenbeispiel für den Landkreis Miesbach) kann eine ampelähnliche Farbkodierung vorgenommen werden. \n",
    "\n",
    "* grün: genug Einheiten im Kreis verfügbar\n",
    "* orang: ausreichend Einheiten im Kreis verfügbar\n",
    "* rot: zu wenig Einheiten im Kreis verfügbar\n",
    "\n",
    "Die dazugehörigen grau gestrichelten Linien sind die Absätzungen für die jeweilige Unsicherheit."
   ]
  },
  {
   "cell_type": "markdown",
   "metadata": {},
   "source": [
    "=> siehe Abbildung ``plots/LK Miesbach.pdf`` auf https://github.com/koepferl/COVID19Dahoam/blob/master/plots/LK%20Miesbach.pdf\n",
    "\n",
    "![title](plots/LK Miesbach.pdf)"
   ]
  },
  {
   "cell_type": "markdown",
   "metadata": {
    "collapsed": true
   },
   "source": [
    "## Verdopplungszeiten\n",
    "\n",
    "In DT.pdf kann die Entwicklung für die berechnete Verdopplungszeit für jeden Landkreis analysiert werden. Die Zahl der Datenpunkte unterscheidet sich für jeden Kreis wegen der verschiedenen Ausbruchszeitpunkte. Die Verdopplungszeit wurde aus den gefitteten Parameter `b`.\n",
    "\n",
    "$y = a * exp(b * x)$\n",
    "\n",
    "$2a = a * exp(b * x_{doppelt})$\n",
    "\n",
    "$2 = exp(b * x_{doppelt})$\n",
    " \n",
    "$ln(2) = b * x_{doppelt}$\n",
    "\n",
    "$x_{doppelt} = \\frac{ln(2)}{b}$"
   ]
  },
  {
   "cell_type": "markdown",
   "metadata": {},
   "source": [
    "=> siehe ``DT_Bavaria.pdf`` auf https://github.com/koepferl/COVID19Dahoam/blob/master/DT_Bavaria.pdf \n",
    "\n",
    "![title](DT_Bavaria.pdf)"
   ]
  },
  {
   "cell_type": "markdown",
   "metadata": {},
   "source": [
    "Vorsicht: Die ursprünglichen Daten setzen sich aus denn eigentlichen Fallmeldungen der Gesundheitsämter zusammen, welche an das RKI übermittelt werden. Einige Kreise korregieren die Fallzahlen nachträglich und manchmal erst nach einigen Tagen. Deshalb kann es passieren, dass die berechnete Verdopplungszeit in der DT.pdf variiert, wenn man die PDF der einzelnen Tage vergleicht. "
   ]
  },
  {
   "cell_type": "markdown",
   "metadata": {},
   "source": [
    "## Interpretation\n",
    "\n",
    "### Datendownload 2020-04-02\n",
    "Am logarithmischen Diagramm und an der Entwicklung der Verdopplungszeit sehen wir, dass einige Landkreise das exponentielle Ansteigen der Fallzahlen verlangsamt haben. Trotzdem gibt es immer noch Landkreise mit Verdopplungsraten von kleiner als 5 Tage (bspw. LK Bad Kissingen, LK Guenzburg, LK Neustadt a.d.Waldnaab, LK Straubing-Bogen, SK Amberg, SK Hof, SK Ingolstadt, SK Kaufbeuren, SK Schweinfurt). Einige Kreise zeigen noch kein abknickendes Verhalten im logarithmischen Diagramm (z. B. LK Dillingen, LK Amberg-Sulzbach, LK Bad Kissingen).\n",
    "\n",
    "Es muss betont werden, dass obwohl sich die Verlangsamung der Fallzahlen auch lokal erkennen lassen (Abknicken, höher Verdopplungszeiten), kann dennoch das Gesundheitsgefüge im einen oder anderen Kreis an seine Grenzen stoßen (siehe exemplarisch Darstellung für den LK Miesbach). \n",
    "\n",
    "### Datendownload 2020-04-04\n",
    "* Neu: Nun ist die durchschnittliche Verdopplungszeit für Bayern auch eingetragen. Kreis darüber sind auf einen sehr guten Weg, Kreise darunter müssen noch zulegen. Leider sind von einigen Kreisen die Zahlen noch nicht übermittelt worden und einige werden sicher wieder korregieren oder nachmelden. Deshalb kann es auch noch zu Fluktuationen kommen (siehe oben). \n",
    "* Logarithmisches Diagramm: Viele Kreise zeigen nun ein Abflachen exponentiellen Entwicklung. Leider kein Abflachen in folgenden Kreisen:\n",
    "    * Kein Abflachen: SK Amberg, SK Ansbach, SK Hof, SK Kempten\n",
    "    * Ansteigen (!!!): LK Amberg-Sulzbach, LK Donau-Ries, LK Erlangen-Hoechstadt, LK Regen, LK Straubing-Bogen, SK Erlangen, SK Straubing, SK Weiden i.d.OPf.    \n",
    "* Entwicklung der Verdopplungszeiten (um so höher, umso besser): \n",
    "    * Die meisten Kreise haben bewegen sich auf die 8 Tage Marke zu, aber es gibt immer noch einige mit relativ kleinen Verdopplungszeiten (um so kleiner, umso schneller verbreitet sich COVID19). \n",
    "    * Kreise kleiner als 5 Tage: SK Ingolstadt, SK Amberg, LK Straubing-Bogen, LK Neustadt a.d.Waldnaab, LK Donau-Ries, LK Amberg-Sulzbach   \n",
    "* Aufgabe: Finde verlässliche Zahlen für die Beatmungsgerätkapazitäten für möglichst viele Landkreise um die Ampel-Darstellung zu vervollständigen (e.g. LK Miesbach).\n",
    "\n",
    "Mehr Diskussion folgt morgen.\n",
    "\n",
    "## Handlungsempfehlung\n",
    "Soziale Isolation in der Corona Kriese kann dabei helfen die Fallzahlenentwicklung abzubremsen um unser Gesundheitssystem nicht zu überfordern. Zeigen wir Solidarität durch Abstand.\n",
    "\n",
    "\n"
   ]
  },
  {
   "cell_type": "code",
   "execution_count": null,
   "metadata": {
    "collapsed": true
   },
   "outputs": [],
   "source": []
  }
 ],
 "metadata": {
  "kernelspec": {
   "display_name": "Python 2",
   "language": "python",
   "name": "python2"
  },
  "language_info": {
   "codemirror_mode": {
    "name": "ipython",
    "version": 2
   },
   "file_extension": ".py",
   "mimetype": "text/x-python",
   "name": "python",
   "nbconvert_exporter": "python",
   "pygments_lexer": "ipython2",
   "version": "2.7.13"
  }
 },
 "nbformat": 4,
 "nbformat_minor": 2
}
