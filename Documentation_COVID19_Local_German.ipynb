{
 "cells": [
  {
   "cell_type": "markdown",
   "metadata": {
    "collapsed": true
   },
   "source": [
    "# Analyse der Corona Fallzahlen auf deutscher Landkreisebene\n",
    "#### Local analysis of the case numbers of COVID19 for Germany (English Version in other file)"
   ]
  },
  {
   "cell_type": "markdown",
   "metadata": {
    "collapsed": true
   },
   "source": [
    "Hier werden täglich die Corona-Fallzahlen-Diagramme der 96 Bayerischen Land- und Stadtkreise angezeigt, analysiert. Zusätzlich werden auch die momentanen Verdopplungsraten diskutiert. Der zugehörige Analyse-Code ist ebenfalls hier enthalten. Die Diagramme werden täglich aktualisiert. \n",
    "\n",
    "#### Bitte um Mithilfe\n",
    "\n",
    "HILFE: Wir brauchen noch die min. und max. Anzahl von Beatmungsgeräten in den jeweiligen Landkreisen in Bayern/Deutschland. \n",
    "\n",
    "#### Achtung\n",
    "Es handelt sich hier um Analysen an einem täglich ändernden Datensatz. Bevor die Erkenntnisse dieser Arbeit zur Anwendung kommen, muss der Benutzer sich klar gemacht haben, dass die Datensätz und Analysen korrekt sind. Es wird keine Garatie jedweder Art gegeben. \n",
    "\n",
    "#### Copyright\n",
    "Bei Anwendung der Abbildungen oder Software bitte folgende Refernzen angeben:\n",
    "* Christine Greif http://www.usm.uni-muenchen.de/~koepferl\n",
    "* Abbildungen fallen unter die Lizenz CC-BY-SA 4.0\n",
    "* Datenquelle: NPGEO-DE\n",
    "* Vielen Dank an Prof. Andreas Burkert an der LMU München"
   ]
  },
  {
   "cell_type": "markdown",
   "metadata": {},
   "source": [
    "## Logarithmisches Diagramm der COVID19 Fallzahlen \n",
    "\n",
    "!!! Übersetzung folgt in den nächsten Tagen !!!\n",
    "The plots for the 96 Bavarian counties are provided. An example is provided below.\n",
    "\n",
    "#### Axis\n",
    "Note that this is a semilogarithmic plot. The numbers on y axis are not equally spaced.\n",
    "\n",
    "#### Data points\n",
    "The data points of the cumulative evolution over time are shown with black + signs. The data was extracted from the online catalog of the Robert-Koch-Institute at https://npgeo-corona-npgeo-de.hub.arcgis.com/datasets/dd4580c810204019a7b8eb3e0b329dd6_0?orderBy=IdLandkreis&orderByAsc=false&where=Bundesland%20%3D%20%27Bayern%27 .\n",
    "\n",
    "#### Fitting \n",
    "Once eight data points are available a non-linear least square fit is performed for a specific date. For the following dates also a similar fit is performed also using the eight most recent available data points. In this case the fit is weighted towards the most recent development and is not contaminated by the early evolution with is currently of secondary interest. Fits of early dates are dark blue. Most recent fits are yellow. \n",
    "\n",
    "For the fit the routine ``curve_fit`` of the ``scipy.optimize`` module was used with respect to the following theoretical function ``y = a * exp(b * x)``. For further information see: https://docs.scipy.org/doc/scipy/reference/generated/scipy.optimize.curve_fit.html\n",
    "\n",
    "#### Hospital Capacity\n",
    "It is possible to add the minimal and maximal hospital capacity of intensive care in the code (horizontal dotted lines). Currently the data is only available for the county \"Landkreis Miesbach\". We would appreciate input very much. \n",
    "\n",
    "#### Approximated Demand for Intensive Care\n",
    "It is possible to display the approximated demand of intensive care facilities as a function of time. This a very rough approximation currently using 5% of the currently approximated cases. This number can be changed. We would appreciate input of which number best to used. If the Hospital capacity of the specific county is available the corresponding availability can be color-coded in a traffic light manner. \n",
    "\n",
    "* green: enough facilities available in this county\n",
    "* orange: sufficient facilities available in this county\n",
    "* red: to few facilities available in this county\n",
    "\n",
    "The corresponding black dashed lines represent the errors of such a rough approximation."
   ]
  },
  {
   "cell_type": "markdown",
   "metadata": {},
   "source": [
    "=> siehe Abbildung plots/LK Miesbach.pdf"
   ]
  },
  {
   "cell_type": "markdown",
   "metadata": {
    "collapsed": true
   },
   "source": [
    "## Verdopplungszeiten\n",
    "\n",
    "In DT.pdf kann die Entwicklung für die berechnete Verdopplungszeit für jeden Landkreis analysiert werden. Die Zahl der Datenpunkte unterscheidet sich für jeden Kreis wegen der verschiedenen Ausbruchszeitpunkte. Die Verdopplungszeit wurde aus den gefitteten Parameter `b`.\n",
    "\n",
    "$y = a * exp(b * x)$\n",
    "\n",
    "$2a = a * exp(b * x_{doppelt})$\n",
    "\n",
    "$2 = exp(b * x_{doppelt})$\n",
    " \n",
    "$ln(2) = b * x_{doppelt}$\n",
    "\n",
    "$x_{doppelt} = \\frac{ln(2)}{b}$"
   ]
  },
  {
   "cell_type": "markdown",
   "metadata": {},
   "source": [
    "=> siehe DT.pdf"
   ]
  },
  {
   "cell_type": "markdown",
   "metadata": {},
   "source": [
    "Vorsicht: Die ursprünglichen Daten setzen sich aus denn eigentlichen Fallmeldungen der Gesundheitsämter zusammen, welche an das RKI übermittelt werden. Einige Kreise korregieren die Fallzahlen nachträglich und manchmal erst nach einigen Tagen. Deshalb kann es passieren, dass die berechnete Verdopplungszeit in der DT.pdf variiert, wenn man die PDF der einzelnen Tage vergleicht. "
   ]
  },
  {
   "cell_type": "markdown",
   "metadata": {},
   "source": [
    "## Interpretation\n",
    "\n",
    "### Datendownload 2020-04-02\n",
    "Am logarithmischen Diagramm und an der Entwicklung der Verdopplungszeit sehen wir, dass einige Landkreise das exponentielle Ansteigen der Fallzahlen verlangsamt haben. Trotzdem gibt es immer noch Landkreise mit Verdopplungsraten von kleiner als 5 Tage (bspw. LK Bad Kissingen, LK Guenzburg, LK Neustadt a.d.Waldnaab, LK Straubing-Bogen, SK Amberg, SK Hof, SK Ingolstadt, SK Kaufbeuren, SK Schweinfurt). Einige Kreise zeigen noch kein abknickendes Verhalten im logarithmischen Diagramm (z. B. LK Dillingen, LK Amberg-Sulzbach, LK Bad Kissingen).\n",
    "\n",
    "Es muss betont werden, dass obwohl sich die Verlangsamung der Fallzahlen auch lokal erkennen lassen (Abknicken, höher Verdopplungszeiten), kann dennoch das Gesundheitsgefüge im einen oder anderen Kreis an seine Grenzen stoßen (siehe exemplarisch Darstellung für den LK Miesbach). \n",
    "\n",
    "Mehr Diskussion folgt morgen.\n",
    "\n",
    "## Handlungsempfehlung\n",
    "Soziale Isolation in der Corona Kriese kann dabei helfen die Fallzahlenentwicklung abzubremsen um unser Gesundheitssystem nicht zu überfordern. Zeigen wir Solidarität durch Abstand.\n",
    "\n",
    "\n"
   ]
  },
  {
   "cell_type": "code",
   "execution_count": null,
   "metadata": {
    "collapsed": true
   },
   "outputs": [],
   "source": []
  }
 ],
 "metadata": {
  "kernelspec": {
   "display_name": "Python 2",
   "language": "python",
   "name": "python2"
  },
  "language_info": {
   "codemirror_mode": {
    "name": "ipython",
    "version": 2
   },
   "file_extension": ".py",
   "mimetype": "text/x-python",
   "name": "python",
   "nbconvert_exporter": "python",
   "pygments_lexer": "ipython2",
   "version": "2.7.13"
  }
 },
 "nbformat": 4,
 "nbformat_minor": 2
}
